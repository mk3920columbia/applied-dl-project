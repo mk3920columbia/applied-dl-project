{
  "nbformat": 4,
  "nbformat_minor": 0,
  "metadata": {
    "colab": {
      "name": "project_v6.ipynb",
      "version": "0.3.2",
      "provenance": [],
      "collapsed_sections": [],
      "include_colab_link": true
    },
    "kernelspec": {
      "name": "python3",
      "display_name": "Python 3"
    },
    "accelerator": "GPU"
  },
  "cells": [
    {
      "cell_type": "markdown",
      "metadata": {
        "id": "view-in-github",
        "colab_type": "text"
      },
      "source": [
        "<a href=\"https://colab.research.google.com/github/mk3920columbia/applied-dl-project/blob/master/project_v6.ipynb\" target=\"_parent\"><img src=\"https://colab.research.google.com/assets/colab-badge.svg\" alt=\"Open In Colab\"/></a>"
      ]
    },
    {
      "cell_type": "code",
      "metadata": {
        "id": "4aexjdjj95Uu",
        "colab_type": "code",
        "colab": {}
      },
      "source": [
        "import pandas as pd\n",
        "import numpy as np\n",
        "import matplotlib.pyplot as plt"
      ],
      "execution_count": 0,
      "outputs": []
    },
    {
      "cell_type": "code",
      "metadata": {
        "id": "ZSBQ6TAh_y__",
        "colab_type": "code",
        "outputId": "2601412c-858c-4233-9fb0-4c9bd79106be",
        "colab": {
          "base_uri": "https://localhost:8080/",
          "height": 124
        }
      },
      "source": [
        "from google.colab import drive\n",
        "drive.mount('/content/gdrive')"
      ],
      "execution_count": 2,
      "outputs": [
        {
          "output_type": "stream",
          "text": [
            "Go to this URL in a browser: https://accounts.google.com/o/oauth2/auth?client_id=947318989803-6bn6qk8qdgf4n4g3pfee6491hc0brc4i.apps.googleusercontent.com&redirect_uri=urn%3Aietf%3Awg%3Aoauth%3A2.0%3Aoob&scope=email%20https%3A%2F%2Fwww.googleapis.com%2Fauth%2Fdocs.test%20https%3A%2F%2Fwww.googleapis.com%2Fauth%2Fdrive%20https%3A%2F%2Fwww.googleapis.com%2Fauth%2Fdrive.photos.readonly%20https%3A%2F%2Fwww.googleapis.com%2Fauth%2Fpeopleapi.readonly&response_type=code\n",
            "\n",
            "Enter your authorization code:\n",
            "··········\n",
            "Mounted at /content/gdrive\n"
          ],
          "name": "stdout"
        }
      ]
    },
    {
      "cell_type": "markdown",
      "metadata": {
        "id": "29h4VLu9ld5a",
        "colab_type": "text"
      },
      "source": [
        "Data"
      ]
    },
    {
      "cell_type": "code",
      "metadata": {
        "id": "svXbbE-GAAnA",
        "colab_type": "code",
        "colab": {}
      },
      "source": [
        "all_data = pd.read_csv('/content/gdrive/My Drive/Project_DL/weather_solar_data_updated.csv')"
      ],
      "execution_count": 0,
      "outputs": []
    },
    {
      "cell_type": "code",
      "metadata": {
        "id": "YKAs-coJJLGM",
        "colab_type": "code",
        "outputId": "fea568dd-6ec5-4b4e-9669-55212ba4b99e",
        "colab": {
          "base_uri": "https://localhost:8080/",
          "height": 1123
        }
      },
      "source": [
        "print(all_data)"
      ],
      "execution_count": 4,
      "outputs": [
        {
          "output_type": "stream",
          "text": [
            "             Date  Hour  Cloud_coverage  ...  Altimeter  Solar_energy  Sun_elevation\n",
            "0       1/31/2016    24            0.00  ...      29.89          0.00          0.000\n",
            "1        2/1/2016     1            0.00  ...      29.90          0.00          0.000\n",
            "2        2/1/2016     2            0.00  ...      29.91          0.00          0.000\n",
            "3        2/1/2016     3            0.00  ...      29.93          0.00          0.000\n",
            "4        2/1/2016     4            0.00  ...      29.94          0.00          0.000\n",
            "5        2/1/2016     5            0.00  ...      29.95          0.00          0.000\n",
            "6        2/1/2016     6            0.00  ...      29.98          0.00          0.000\n",
            "7        2/1/2016     7            0.00  ...      29.99         84.29          4.550\n",
            "8        2/1/2016     8            0.14  ...      30.01        531.00         13.660\n",
            "9        2/1/2016     9            0.92  ...      30.04        923.75         21.945\n",
            "10       2/1/2016    10            0.46  ...      30.06       1947.75         28.205\n",
            "11       2/1/2016    11            0.42  ...      30.06       3562.00         31.755\n",
            "12       2/1/2016    12            0.00  ...      30.05       4236.50         32.105\n",
            "13       2/1/2016    13            0.00  ...      30.04       3913.00         29.210\n",
            "14       2/1/2016    14            0.00  ...      30.03       3189.25         23.480\n",
            "15       2/1/2016    15            0.00  ...      30.02       1687.75         15.570\n",
            "16       2/1/2016    16            0.00  ...      30.03        453.93          5.580\n",
            "17       2/1/2016    17            0.00  ...      30.05          9.13          0.000\n",
            "18       2/1/2016    18            0.40  ...      30.06          0.00          0.000\n",
            "19       2/1/2016    19            0.14  ...      30.07          0.00          0.000\n",
            "20       2/1/2016    20            0.00  ...      30.06          0.00          0.000\n",
            "21       2/1/2016    21            0.01  ...      30.06          0.00          0.000\n",
            "22       2/1/2016    22            0.00  ...      30.08          0.00          0.000\n",
            "23       2/1/2016    23            0.00  ...      30.08          0.00          0.000\n",
            "24       2/1/2016    24            0.00  ...      30.07          0.00          0.000\n",
            "25       2/2/2016     1            0.00  ...      30.07          0.00          0.000\n",
            "26       2/2/2016     2            0.00  ...      30.07          0.00          0.000\n",
            "27       2/2/2016     3            0.00  ...      30.04          0.00          0.000\n",
            "28       2/2/2016     4            0.00  ...      30.01          0.00          0.000\n",
            "29       2/2/2016     5            0.73  ...      29.99          0.00          0.000\n",
            "...           ...   ...             ...  ...        ...           ...            ...\n",
            "14298  10/27/2017    18            1.00  ...      29.93          0.45          0.000\n",
            "14299  10/27/2017    19            1.00  ...      29.92          0.00          0.000\n",
            "14300  10/27/2017    20            1.00  ...      29.92          0.00          0.000\n",
            "14301  10/27/2017    21            1.00  ...      29.92          0.00          0.000\n",
            "14302  10/27/2017    22            1.00  ...      29.92          0.00          0.000\n",
            "14303  10/27/2017    23            1.00  ...      29.90          0.00          0.000\n",
            "14304  10/27/2017    24            1.00  ...      29.89          0.00          0.000\n",
            "14305  10/28/2017     1            1.00  ...      29.88          0.00          0.000\n",
            "14306  10/28/2017     2            1.00  ...      29.88          0.00          0.000\n",
            "14307  10/28/2017     3            1.00  ...      29.89          0.00          0.000\n",
            "14308  10/28/2017     4            1.00  ...      29.90          0.00          0.000\n",
            "14309  10/28/2017     5            1.00  ...      29.91          0.00          0.000\n",
            "14310  10/28/2017     6            1.00  ...      29.93          0.00          0.000\n",
            "14311  10/28/2017     7            1.00  ...      29.94         59.93          3.455\n",
            "14312  10/28/2017     8            0.91  ...      29.94        405.00         11.925\n",
            "14313  10/28/2017     9            0.92  ...      29.94        727.25         21.290\n",
            "14314  10/28/2017    10            1.00  ...      29.94        883.75         28.980\n",
            "14315  10/28/2017    11            1.00  ...      29.94       1574.75         34.250\n",
            "14316  10/28/2017    12            1.00  ...      29.93        854.25         36.370\n",
            "14317  10/28/2017    13            1.00  ...      29.93        945.75         34.985\n",
            "14318  10/28/2017    14            1.00  ...      29.93        728.50         30.340\n",
            "14319  10/28/2017    15            1.00  ...      29.93        338.50         23.105\n",
            "14320  10/28/2017    16            1.00  ...      29.95        126.78         14.040\n",
            "14321  10/28/2017    17            1.00  ...      29.97         20.49          4.570\n",
            "14322  10/28/2017    18            1.00  ...      29.98          0.00          0.000\n",
            "14323  10/28/2017    19            1.00  ...      29.97          0.00          0.000\n",
            "14324  10/28/2017    20            1.00  ...      29.97          0.00          0.000\n",
            "14325  10/28/2017    21            1.00  ...      29.97          0.00          0.000\n",
            "14326  10/28/2017    22            1.00  ...      29.96          0.00          0.000\n",
            "14327  10/28/2017    23            1.00  ...      29.96          0.00          0.000\n",
            "\n",
            "[14328 rows x 12 columns]\n"
          ],
          "name": "stdout"
        }
      ]
    },
    {
      "cell_type": "code",
      "metadata": {
        "id": "6MAQ0fOVBxA_",
        "colab_type": "code",
        "outputId": "46c7e301-1401-4ff3-a6f9-ca066dc8ea3a",
        "colab": {
          "base_uri": "https://localhost:8080/",
          "height": 86
        }
      },
      "source": [
        "print(all_data.columns)"
      ],
      "execution_count": 5,
      "outputs": [
        {
          "output_type": "stream",
          "text": [
            "Index(['Date', 'Hour', 'Cloud_coverage', 'Visibility', 'Temperature',\n",
            "       'Dew_point', 'Relative_humidity', 'Wind_speed', 'Station_pressure',\n",
            "       'Altimeter', 'Solar_energy', 'Sun_elevation'],\n",
            "      dtype='object')\n"
          ],
          "name": "stdout"
        }
      ]
    },
    {
      "cell_type": "code",
      "metadata": {
        "id": "hZIIVjADC63V",
        "colab_type": "code",
        "outputId": "f34c0992-4a78-4930-a300-0b18c2bfba29",
        "colab": {
          "base_uri": "https://localhost:8080/",
          "height": 34
        }
      },
      "source": [
        "slength = len(all_data.Hour)\n",
        "print(slength)"
      ],
      "execution_count": 6,
      "outputs": [
        {
          "output_type": "stream",
          "text": [
            "14328\n"
          ],
          "name": "stdout"
        }
      ]
    },
    {
      "cell_type": "code",
      "metadata": {
        "id": "g-T0ez-lDQm9",
        "colab_type": "code",
        "outputId": "09e98a15-19fa-41a9-cb43-5d3679618db9",
        "colab": {
          "base_uri": "https://localhost:8080/",
          "height": 34
        }
      },
      "source": [
        "no_days = slength/24\n",
        "no_days = int(no_days)\n",
        "print(no_days)"
      ],
      "execution_count": 7,
      "outputs": [
        {
          "output_type": "stream",
          "text": [
            "597\n"
          ],
          "name": "stdout"
        }
      ]
    },
    {
      "cell_type": "code",
      "metadata": {
        "id": "Ik4YlwH2DXWD",
        "colab_type": "code",
        "colab": {}
      },
      "source": [
        "new_data = all_data.copy()\n",
        "new_data = new_data.drop('Date', axis=1)"
      ],
      "execution_count": 0,
      "outputs": []
    },
    {
      "cell_type": "code",
      "metadata": {
        "id": "shCAX0-HN1iw",
        "colab_type": "code",
        "colab": {}
      },
      "source": [
        "!pip install -q sklearn"
      ],
      "execution_count": 0,
      "outputs": []
    },
    {
      "cell_type": "code",
      "metadata": {
        "id": "r-uaFkC5WKX7",
        "colab_type": "code",
        "outputId": "649081ae-13f4-4cee-fbf7-ecde7e770026",
        "colab": {
          "base_uri": "https://localhost:8080/",
          "height": 86
        }
      },
      "source": [
        "from __future__ import absolute_import, division, print_function\n",
        "\n",
        "!pip install -q tensorflow==2.0.0-alpha0\n",
        "import tensorflow as tf\n",
        "\n",
        "from tensorflow import feature_column\n",
        "from tensorflow.keras import layers\n",
        "from sklearn.model_selection import train_test_split"
      ],
      "execution_count": 10,
      "outputs": [
        {
          "output_type": "stream",
          "text": [
            "\u001b[K     |████████████████████████████████| 79.9MB 1.9MB/s \n",
            "\u001b[K     |████████████████████████████████| 3.0MB 43.8MB/s \n",
            "\u001b[K     |████████████████████████████████| 61kB 24.1MB/s \n",
            "\u001b[K     |████████████████████████████████| 419kB 52.4MB/s \n",
            "\u001b[?25h"
          ],
          "name": "stdout"
        }
      ]
    },
    {
      "cell_type": "code",
      "metadata": {
        "id": "J68ms6T_QJw5",
        "colab_type": "code",
        "outputId": "c1360d4f-4a9a-4e5d-cc6e-cfc10d1e357e",
        "colab": {
          "base_uri": "https://localhost:8080/",
          "height": 287
        }
      },
      "source": [
        "plt.plot(new_data['Temperature'])"
      ],
      "execution_count": 11,
      "outputs": [
        {
          "output_type": "execute_result",
          "data": {
            "text/plain": [
              "[<matplotlib.lines.Line2D at 0x7f5b9d6d4400>]"
            ]
          },
          "metadata": {
            "tags": []
          },
          "execution_count": 11
        },
        {
          "output_type": "display_data",
          "data": {
            "image/png": "[encoded data removed]",
            "text/plain": [
              "<Figure size 432x288 with 1 Axes>"
            ]
          },
          "metadata": {
            "tags": []
          }
        }
      ]
    },
    {
      "cell_type": "code",
      "metadata": {
        "id": "Bn5COwzPvibD",
        "colab_type": "code",
        "outputId": "5e198d21-6400-4e2d-acca-d2d4aa5563ea",
        "colab": {
          "base_uri": "https://localhost:8080/",
          "height": 287
        }
      },
      "source": [
        "plt.plot(new_data['Sun_elevation'])"
      ],
      "execution_count": 12,
      "outputs": [
        {
          "output_type": "execute_result",
          "data": {
            "text/plain": [
              "[<matplotlib.lines.Line2D at 0x7f5b9ae66be0>]"
            ]
          },
          "metadata": {
            "tags": []
          },
          "execution_count": 12
        },
        {
          "output_type": "display_data",
          "data": {
            "image/png": "[encoded data removed]",
            "text/plain": [
              "<Figure size 432x288 with 1 Axes>"
            ]
          },
          "metadata": {
            "tags": []
          }
        }
      ]
    },
    {
      "cell_type": "markdown",
      "metadata": {
        "id": "04smefAilkwS",
        "colab_type": "text"
      },
      "source": [
        "Data Preprocessing for Training"
      ]
    },
    {
      "cell_type": "code",
      "metadata": {
        "id": "AnTvVSriWnEx",
        "colab_type": "code",
        "outputId": "a0567b46-1ee4-43d3-ffe5-b526f5880e41",
        "colab": {
          "base_uri": "https://localhost:8080/",
          "height": 69
        }
      },
      "source": [
        "dataframe = new_data\n",
        "train, tmp = train_test_split(dataframe, test_size=0.35)\n",
        "val, test = train_test_split(tmp, test_size=3/7)\n",
        "print(len(train), 'train examples')\n",
        "print(len(val), 'validation examples')\n",
        "print(len(test), 'test examples')"
      ],
      "execution_count": 86,
      "outputs": [
        {
          "output_type": "stream",
          "text": [
            "9313 train examples\n",
            "2865 validation examples\n",
            "2150 test examples\n"
          ],
          "name": "stdout"
        }
      ]
    },
    {
      "cell_type": "code",
      "metadata": {
        "id": "MoAR6lx98i2j",
        "colab_type": "code",
        "colab": {}
      },
      "source": [
        "mean = train.mean(axis = 0) # we need these for normalization of the input data\n",
        "tmp = train - mean\n",
        "std = tmp.std(axis=0)\n",
        "mean = mean.drop('Solar_energy',axis=0)\n",
        "std = std.drop('Solar_energy',axis=0)"
      ],
      "execution_count": 0,
      "outputs": []
    },
    {
      "cell_type": "code",
      "metadata": {
        "id": "Ymv_m6xwXPxD",
        "colab_type": "code",
        "colab": {}
      },
      "source": [
        "# A utility method to create a tf.data dataset from a Pandas Dataframe\n",
        "def df_to_dataset(dataframe, shuffle=True, batch_size=32):\n",
        "  dataframe = dataframe.copy()\n",
        "  labels = dataframe.pop('Solar_energy') # this is a regression problem, \n",
        "  #\"labels\" are in fact targets here\n",
        "  dataframe -= mean\n",
        "  dataframe /= std\n",
        "  ds = tf.data.Dataset.from_tensor_slices((dict(dataframe), labels))\n",
        "  if shuffle:\n",
        "    ds = ds.shuffle(buffer_size=len(dataframe))\n",
        "  ds = ds.batch(batch_size)\n",
        "  return ds"
      ],
      "execution_count": 0,
      "outputs": []
    },
    {
      "cell_type": "code",
      "metadata": {
        "id": "GNuxFgwNY-U6",
        "colab_type": "code",
        "colab": {}
      },
      "source": [
        "batch_size = 16\n",
        "train_ds = df_to_dataset(train, batch_size=batch_size)\n",
        "val_ds = df_to_dataset(val, shuffle=False, batch_size=batch_size)\n",
        "test_ds = df_to_dataset(test, shuffle=False, batch_size=batch_size)"
      ],
      "execution_count": 0,
      "outputs": []
    },
    {
      "cell_type": "code",
      "metadata": {
        "id": "45iWzaoEZwQ5",
        "colab_type": "code",
        "outputId": "9a643de2-9e84-44ff-e06c-f77493fb03fc",
        "colab": {
          "base_uri": "https://localhost:8080/",
          "height": 54
        }
      },
      "source": [
        "for feature_batch, label_batch in train_ds.take(1):\n",
        "  print('Every feature:', list(feature_batch.keys()))"
      ],
      "execution_count": 19,
      "outputs": [
        {
          "output_type": "stream",
          "text": [
            "Every feature: ['Hour', 'Cloud_coverage', 'Visibility', 'Temperature', 'Dew_point', 'Relative_humidity', 'Wind_speed', 'Station_pressure', 'Altimeter', 'Sun_elevation']\n"
          ],
          "name": "stdout"
        }
      ]
    },
    {
      "cell_type": "code",
      "metadata": {
        "id": "iTzSPCg_a-Nn",
        "colab_type": "code",
        "colab": {}
      },
      "source": [
        "example_batch = next(iter(train_ds))[0]"
      ],
      "execution_count": 0,
      "outputs": []
    },
    {
      "cell_type": "code",
      "metadata": {
        "id": "SRtSrruNc3ZK",
        "colab_type": "code",
        "colab": {}
      },
      "source": [
        "def demo(feature_column):\n",
        "  feature_layer = layers.DenseFeatures(feature_column)\n",
        "  print(feature_layer(example_batch).numpy())"
      ],
      "execution_count": 0,
      "outputs": []
    },
    {
      "cell_type": "code",
      "metadata": {
        "id": "TBesAGXEd6R7",
        "colab_type": "code",
        "colab": {}
      },
      "source": [
        "feature_columns = []\n",
        "\n",
        "# numeric cols\n",
        "for header in ['Hour','Cloud_coverage', 'Visibility' ,'Temperature', 'Dew_point','Relative_humidity', 'Station_pressure' ,'Wind_speed', 'Sun_elevation']:\n",
        "  feature_columns.append(feature_column.numeric_column(header))\n",
        "  \n",
        "feature_layer = tf.keras.layers.DenseFeatures(feature_columns)"
      ],
      "execution_count": 0,
      "outputs": []
    },
    {
      "cell_type": "markdown",
      "metadata": {
        "id": "x9nJ1iyXltGW",
        "colab_type": "text"
      },
      "source": [
        "Training"
      ]
    },
    {
      "cell_type": "code",
      "metadata": {
        "id": "jhrk0kMrT8e7",
        "colab_type": "code",
        "colab": {}
      },
      "source": [
        "model = tf.keras.Sequential([\n",
        "  feature_layer,\n",
        "  layers.Dense(256, activation='relu'),\n",
        "  layers.Dense(256, activation='relu'),\n",
        "  layers.Dense(256, activation='relu'),\n",
        "  layers.Dropout(0.3),\n",
        "  layers.Dense(1)\n",
        "])\n",
        "model.compile(optimizer='adam', loss='mse', metrics=['mae'])"
      ],
      "execution_count": 0,
      "outputs": []
    },
    {
      "cell_type": "code",
      "metadata": {
        "id": "Nd5hO75NgLTm",
        "colab_type": "code",
        "outputId": "b9529123-b8af-45c2-aa98-fd12a1185181",
        "colab": {
          "base_uri": "https://localhost:8080/",
          "height": 2533
        }
      },
      "source": [
        "EPOCHS = 70\n",
        "history = model.fit(train_ds, \n",
        "          validation_data=val_ds, \n",
        "          epochs=EPOCHS)"
      ],
      "execution_count": 0,
      "outputs": [
        {
          "output_type": "stream",
          "text": [
            "WARNING: Logging before flag parsing goes to stderr.\n",
            "W0501 23:33:53.405086 140146499643264 deprecation.py:323] From /usr/local/lib/python3.6/dist-packages/tensorflow/python/feature_column/feature_column_v2.py:2758: to_float (from tensorflow.python.ops.math_ops) is deprecated and will be removed in a future version.\n",
            "Instructions for updating:\n",
            "Use `tf.cast` instead.\n"
          ],
          "name": "stderr"
        },
        {
          "output_type": "stream",
          "text": [
            "Epoch 1/70\n",
            "583/583 [==============================] - 10s 18ms/step - loss: 590828.6859 - mae: 598.4655 - val_loss: 257041.0715 - val_mae: 277.0688\n",
            "Epoch 2/70\n",
            "583/583 [==============================] - 11s 19ms/step - loss: 252343.5617 - mae: 279.4300 - val_loss: 232468.9717 - val_mae: 254.0946\n",
            "Epoch 3/70\n",
            "583/583 [==============================] - 10s 18ms/step - loss: 230946.2889 - mae: 265.7047 - val_loss: 212028.7796 - val_mae: 238.0889\n",
            "Epoch 4/70\n",
            "583/583 [==============================] - 10s 18ms/step - loss: 220607.5928 - mae: 257.0424 - val_loss: 202950.9556 - val_mae: 230.5009\n",
            "Epoch 5/70\n",
            "583/583 [==============================] - 10s 18ms/step - loss: 214202.3671 - mae: 250.6156 - val_loss: 203925.7708 - val_mae: 229.2849\n",
            "Epoch 6/70\n",
            "583/583 [==============================] - 10s 18ms/step - loss: 205825.7405 - mae: 245.2084 - val_loss: 196034.7599 - val_mae: 223.1422\n",
            "Epoch 7/70\n",
            "583/583 [==============================] - 10s 17ms/step - loss: 201466.7570 - mae: 239.6254 - val_loss: 193080.3609 - val_mae: 222.1551\n",
            "Epoch 8/70\n",
            "583/583 [==============================] - 10s 18ms/step - loss: 198873.0527 - mae: 240.6680 - val_loss: 193024.8594 - val_mae: 218.6290\n",
            "Epoch 9/70\n",
            "583/583 [==============================] - 11s 19ms/step - loss: 198272.6495 - mae: 237.8514 - val_loss: 194550.6577 - val_mae: 221.5629\n",
            "Epoch 10/70\n",
            "583/583 [==============================] - 11s 19ms/step - loss: 192215.8325 - mae: 236.1275 - val_loss: 182547.0071 - val_mae: 214.9932\n",
            "Epoch 11/70\n",
            "583/583 [==============================] - 10s 18ms/step - loss: 187794.8050 - mae: 228.8486 - val_loss: 186267.7385 - val_mae: 214.0542\n",
            "Epoch 12/70\n",
            "583/583 [==============================] - 11s 19ms/step - loss: 185046.9816 - mae: 226.3882 - val_loss: 179960.4471 - val_mae: 212.1579\n",
            "Epoch 13/70\n",
            "583/583 [==============================] - 11s 18ms/step - loss: 185056.4010 - mae: 225.4422 - val_loss: 184030.0114 - val_mae: 215.2724\n",
            "Epoch 14/70\n",
            "583/583 [==============================] - 10s 18ms/step - loss: 183653.0063 - mae: 225.2152 - val_loss: 184239.5691 - val_mae: 210.6562\n",
            "Epoch 15/70\n",
            "583/583 [==============================] - 10s 18ms/step - loss: 180378.7987 - mae: 222.6879 - val_loss: 176565.7196 - val_mae: 207.9875\n",
            "Epoch 16/70\n",
            "583/583 [==============================] - 10s 17ms/step - loss: 180319.1577 - mae: 220.2934 - val_loss: 175910.9226 - val_mae: 209.7485\n",
            "Epoch 17/70\n",
            "583/583 [==============================] - 11s 20ms/step - loss: 179599.6174 - mae: 222.4722 - val_loss: 173834.0534 - val_mae: 206.2144\n",
            "Epoch 18/70\n",
            "583/583 [==============================] - 10s 17ms/step - loss: 176683.5768 - mae: 219.3965 - val_loss: 176750.5823 - val_mae: 206.6547\n",
            "Epoch 19/70\n",
            "583/583 [==============================] - 10s 17ms/step - loss: 173960.7432 - mae: 216.9964 - val_loss: 175692.3827 - val_mae: 206.5732\n",
            "Epoch 20/70\n",
            "583/583 [==============================] - 10s 17ms/step - loss: 175978.6970 - mae: 216.2075 - val_loss: 170762.7842 - val_mae: 204.3461\n",
            "Epoch 21/70\n",
            "583/583 [==============================] - 10s 17ms/step - loss: 172892.5954 - mae: 218.9375 - val_loss: 170977.6281 - val_mae: 200.9862\n",
            "Epoch 22/70\n",
            "583/583 [==============================] - 10s 17ms/step - loss: 174526.6897 - mae: 213.8969 - val_loss: 170132.4358 - val_mae: 200.5108\n",
            "Epoch 23/70\n",
            "583/583 [==============================] - 10s 17ms/step - loss: 171275.1860 - mae: 217.7187 - val_loss: 169389.0825 - val_mae: 205.7594\n",
            "Epoch 24/70\n",
            "583/583 [==============================] - 10s 17ms/step - loss: 172865.8552 - mae: 215.3576 - val_loss: 170937.5046 - val_mae: 205.4614\n",
            "Epoch 25/70\n",
            "583/583 [==============================] - 12s 20ms/step - loss: 169076.7163 - mae: 214.2203 - val_loss: 169252.5208 - val_mae: 199.4956\n",
            "Epoch 26/70\n",
            "583/583 [==============================] - 10s 17ms/step - loss: 169621.4033 - mae: 215.0159 - val_loss: 171493.1984 - val_mae: 201.2884\n",
            "Epoch 27/70\n",
            "583/583 [==============================] - 10s 17ms/step - loss: 170652.1285 - mae: 209.9786 - val_loss: 170531.6294 - val_mae: 200.1911\n",
            "Epoch 28/70\n",
            "583/583 [==============================] - 10s 17ms/step - loss: 168195.1996 - mae: 215.0314 - val_loss: 171694.5206 - val_mae: 202.3444\n",
            "Epoch 29/70\n",
            "583/583 [==============================] - 10s 17ms/step - loss: 165968.5840 - mae: 209.1819 - val_loss: 166398.9770 - val_mae: 200.9191\n",
            "Epoch 30/70\n",
            "583/583 [==============================] - 10s 17ms/step - loss: 164482.8556 - mae: 207.0309 - val_loss: 176858.3893 - val_mae: 202.7488\n",
            "Epoch 31/70\n",
            "583/583 [==============================] - 10s 17ms/step - loss: 167010.0184 - mae: 211.6329 - val_loss: 168065.4118 - val_mae: 200.0793\n",
            "Epoch 32/70\n",
            "583/583 [==============================] - 10s 18ms/step - loss: 164328.2877 - mae: 209.2896 - val_loss: 171705.6744 - val_mae: 208.1796\n",
            "Epoch 33/70\n",
            "583/583 [==============================] - 11s 19ms/step - loss: 164352.4290 - mae: 208.4569 - val_loss: 169985.2173 - val_mae: 199.5720\n",
            "Epoch 34/70\n",
            "583/583 [==============================] - 10s 17ms/step - loss: 167888.4233 - mae: 210.7553 - val_loss: 173242.6851 - val_mae: 199.5770\n",
            "Epoch 35/70\n",
            "583/583 [==============================] - 10s 17ms/step - loss: 162936.0893 - mae: 203.4767 - val_loss: 169167.9543 - val_mae: 199.8576\n",
            "Epoch 36/70\n",
            "583/583 [==============================] - 10s 17ms/step - loss: 164130.1751 - mae: 206.2985 - val_loss: 171763.7995 - val_mae: 197.8105\n",
            "Epoch 37/70\n",
            "583/583 [==============================] - 10s 17ms/step - loss: 165889.6694 - mae: 206.7866 - val_loss: 169845.2811 - val_mae: 205.2990\n",
            "Epoch 38/70\n",
            "583/583 [==============================] - 10s 17ms/step - loss: 159848.4652 - mae: 205.6141 - val_loss: 173243.2100 - val_mae: 199.6394\n",
            "Epoch 39/70\n",
            "583/583 [==============================] - 10s 17ms/step - loss: 164629.0212 - mae: 207.6254 - val_loss: 171488.3495 - val_mae: 198.3969\n",
            "Epoch 40/70\n",
            "583/583 [==============================] - 10s 18ms/step - loss: 159073.2112 - mae: 205.4903 - val_loss: 172453.1302 - val_mae: 200.3706\n",
            "Epoch 41/70\n",
            "583/583 [==============================] - 11s 19ms/step - loss: 156951.7444 - mae: 200.9024 - val_loss: 173246.3553 - val_mae: 203.0859\n",
            "Epoch 42/70\n",
            "583/583 [==============================] - 11s 19ms/step - loss: 159651.1535 - mae: 205.6044 - val_loss: 168230.2202 - val_mae: 196.2352\n",
            "Epoch 43/70\n",
            "583/583 [==============================] - 11s 18ms/step - loss: 161180.3102 - mae: 204.5809 - val_loss: 171818.9723 - val_mae: 200.6761\n",
            "Epoch 44/70\n",
            "583/583 [==============================] - 10s 17ms/step - loss: 158812.0717 - mae: 202.8210 - val_loss: 166473.4134 - val_mae: 195.5337\n",
            "Epoch 45/70\n",
            "583/583 [==============================] - 10s 17ms/step - loss: 159352.0027 - mae: 204.5214 - val_loss: 174706.5791 - val_mae: 198.1620\n",
            "Epoch 46/70\n",
            "583/583 [==============================] - 10s 17ms/step - loss: 159641.9921 - mae: 204.1824 - val_loss: 172533.3430 - val_mae: 197.5648\n",
            "Epoch 47/70\n",
            "583/583 [==============================] - 10s 17ms/step - loss: 155027.4795 - mae: 200.8540 - val_loss: 170136.8605 - val_mae: 199.2315\n",
            "Epoch 48/70\n",
            "583/583 [==============================] - 11s 18ms/step - loss: 156557.8805 - mae: 199.8074 - val_loss: 178372.7774 - val_mae: 198.5604\n",
            "Epoch 49/70\n",
            "583/583 [==============================] - 10s 18ms/step - loss: 152744.6479 - mae: 197.7960 - val_loss: 172801.5756 - val_mae: 196.7355\n",
            "Epoch 50/70\n",
            "583/583 [==============================] - 10s 17ms/step - loss: 155240.9787 - mae: 199.5978 - val_loss: 172965.2026 - val_mae: 198.4220\n",
            "Epoch 51/70\n",
            "583/583 [==============================] - 10s 17ms/step - loss: 153980.5641 - mae: 200.7177 - val_loss: 169178.0267 - val_mae: 194.7534\n",
            "Epoch 52/70\n",
            "583/583 [==============================] - 10s 17ms/step - loss: 158161.5569 - mae: 199.8958 - val_loss: 165905.9539 - val_mae: 196.5863\n",
            "Epoch 53/70\n",
            "583/583 [==============================] - 10s 17ms/step - loss: 153216.9007 - mae: 200.9821 - val_loss: 175957.1565 - val_mae: 198.3418\n",
            "Epoch 54/70\n",
            "583/583 [==============================] - 10s 17ms/step - loss: 152761.0362 - mae: 200.6300 - val_loss: 167533.8876 - val_mae: 194.1883\n",
            "Epoch 55/70\n",
            "583/583 [==============================] - 11s 18ms/step - loss: 152591.1666 - mae: 194.3236 - val_loss: 172957.1174 - val_mae: 197.0649\n",
            "Epoch 56/70\n",
            "583/583 [==============================] - 11s 19ms/step - loss: 153673.3590 - mae: 197.2955 - val_loss: 171750.6606 - val_mae: 197.9416\n",
            "Epoch 57/70\n",
            "583/583 [==============================] - 10s 18ms/step - loss: 154833.3869 - mae: 203.6825 - val_loss: 169341.1834 - val_mae: 196.8538\n",
            "Epoch 58/70\n",
            "583/583 [==============================] - 10s 17ms/step - loss: 149756.9408 - mae: 194.3868 - val_loss: 177729.0381 - val_mae: 198.2305\n",
            "Epoch 59/70\n",
            "583/583 [==============================] - 10s 17ms/step - loss: 151240.7708 - mae: 198.5955 - val_loss: 174851.8884 - val_mae: 198.0644\n",
            "Epoch 60/70\n",
            "583/583 [==============================] - 10s 17ms/step - loss: 151546.8136 - mae: 200.0683 - val_loss: 169887.5638 - val_mae: 194.7930\n",
            "Epoch 61/70\n",
            "583/583 [==============================] - 10s 17ms/step - loss: 154975.2655 - mae: 200.6981 - val_loss: 173226.3634 - val_mae: 198.9597\n",
            "Epoch 62/70\n",
            "583/583 [==============================] - 10s 17ms/step - loss: 150390.8515 - mae: 200.3195 - val_loss: 169738.2870 - val_mae: 195.2989\n",
            "Epoch 63/70\n",
            "583/583 [==============================] - 10s 17ms/step - loss: 147959.6505 - mae: 193.6362 - val_loss: 164096.9611 - val_mae: 193.9613\n",
            "Epoch 64/70\n",
            "583/583 [==============================] - 11s 19ms/step - loss: 149106.0425 - mae: 194.7277 - val_loss: 175090.0746 - val_mae: 197.7805\n",
            "Epoch 65/70\n",
            "583/583 [==============================] - 10s 18ms/step - loss: 146139.6517 - mae: 196.4774 - val_loss: 176835.3908 - val_mae: 197.6088\n",
            "Epoch 66/70\n",
            "583/583 [==============================] - 10s 17ms/step - loss: 146164.2236 - mae: 196.7529 - val_loss: 171652.4894 - val_mae: 196.6889\n",
            "Epoch 67/70\n",
            "583/583 [==============================] - 10s 17ms/step - loss: 150418.0300 - mae: 197.1578 - val_loss: 170921.4011 - val_mae: 197.9195\n",
            "Epoch 68/70\n",
            "583/583 [==============================] - 10s 17ms/step - loss: 148536.9015 - mae: 196.3624 - val_loss: 167264.8056 - val_mae: 195.9939\n",
            "Epoch 69/70\n",
            "583/583 [==============================] - 10s 17ms/step - loss: 147725.4983 - mae: 193.2302 - val_loss: 169217.5897 - val_mae: 194.7896\n",
            "Epoch 70/70\n",
            "583/583 [==============================] - 10s 17ms/step - loss: 143919.4567 - mae: 191.7999 - val_loss: 168573.2326 - val_mae: 197.1677\n"
          ],
          "name": "stdout"
        }
      ]
    },
    {
      "cell_type": "code",
      "metadata": {
        "id": "JB9eyZAEekdV",
        "colab_type": "code",
        "outputId": "616a4868-1690-4d9c-a750-5f07ba477812",
        "colab": {
          "base_uri": "https://localhost:8080/",
          "height": 364
        }
      },
      "source": [
        "model.summary()"
      ],
      "execution_count": 0,
      "outputs": [
        {
          "output_type": "stream",
          "text": [
            "Model: \"sequential\"\n",
            "_________________________________________________________________\n",
            "Layer (type)                 Output Shape              Param #   \n",
            "=================================================================\n",
            "dense_features (DenseFeature multiple                  0         \n",
            "_________________________________________________________________\n",
            "dense (Dense)                multiple                  2560      \n",
            "_________________________________________________________________\n",
            "dense_1 (Dense)              multiple                  65792     \n",
            "_________________________________________________________________\n",
            "dense_2 (Dense)              multiple                  65792     \n",
            "_________________________________________________________________\n",
            "dropout (Dropout)            multiple                  0         \n",
            "_________________________________________________________________\n",
            "dense_3 (Dense)              multiple                  257       \n",
            "=================================================================\n",
            "Total params: 134,401\n",
            "Trainable params: 134,401\n",
            "Non-trainable params: 0\n",
            "_________________________________________________________________\n"
          ],
          "name": "stdout"
        }
      ]
    },
    {
      "cell_type": "code",
      "metadata": {
        "id": "QmIAtf3LjJd9",
        "colab_type": "code",
        "outputId": "686c5894-067b-476c-cc35-62d609173885",
        "colab": {
          "base_uri": "https://localhost:8080/",
          "height": 545
        }
      },
      "source": [
        "acc = history.history['mae']\n",
        "val_acc = history.history['val_mae']\n",
        "\n",
        "loss = history.history['loss']\n",
        "val_loss = history.history['val_loss']\n",
        "\n",
        "epochs_range = range(1, EPOCHS+1)\n",
        "\n",
        "plt.plot(epochs_range, acc, label='Training Accuracy')\n",
        "plt.plot(epochs_range, val_acc, label='Validation Accuracy')\n",
        "plt.legend(loc='upper right')\n",
        "plt.title('Training and Validation MAE')\n",
        "plt.show()\n",
        "\n",
        "\n",
        "plt.plot(epochs_range, loss, label='Training Loss')\n",
        "plt.plot(epochs_range, val_loss, label='Validation Loss')\n",
        "plt.legend(loc='upper right')\n",
        "plt.title('Training and Validation MAE')\n",
        "plt.show()"
      ],
      "execution_count": 0,
      "outputs": [
        {
          "output_type": "display_data",
          "data": {
            "image/png": "[encoded data removed]",
            "text/plain": [
              "<Figure size 432x288 with 1 Axes>"
            ]
          },
          "metadata": {
            "tags": []
          }
        },
        {
          "output_type": "display_data",
          "data": {
            "image/png": "[encoded data removed]",
            "text/plain": [
              "<Figure size 432x288 with 1 Axes>"
            ]
          },
          "metadata": {
            "tags": []
          }
        }
      ]
    },
    {
      "cell_type": "code",
      "metadata": {
        "id": "19eS6o1IlITM",
        "colab_type": "code",
        "colab": {
          "base_uri": "https://localhost:8080/",
          "height": 52
        },
        "outputId": "49a1e9ee-a13b-4910-8bcc-1f572438e46c"
      },
      "source": [
        "loss, mae = model.evaluate(test_ds)\n",
        "print(\"MAE\", mae)"
      ],
      "execution_count": 90,
      "outputs": [
        {
          "output_type": "stream",
          "text": [
            "135/135 [==============================] - 1s 6ms/step - loss: 137875.8711 - mae: 184.0110\n",
            "MAE 184.01096\n"
          ],
          "name": "stdout"
        }
      ]
    },
    {
      "cell_type": "markdown",
      "metadata": {
        "id": "waAu_6_ulycz",
        "colab_type": "text"
      },
      "source": [
        "Save the model weights for future use:"
      ]
    },
    {
      "cell_type": "code",
      "metadata": {
        "id": "Sosj8wt5fQaE",
        "colab_type": "code",
        "colab": {}
      },
      "source": [
        "# Save the weights\n",
        "#model.save_weights('/content/gdrive/My Drive/Project_DL/checkpoints/checkpoint_05_01')"
      ],
      "execution_count": 0,
      "outputs": []
    },
    {
      "cell_type": "markdown",
      "metadata": {
        "id": "rcmHUvEwl4x-",
        "colab_type": "text"
      },
      "source": [
        "Compute the nominal estimation errors:"
      ]
    },
    {
      "cell_type": "code",
      "metadata": {
        "id": "EpgNm31rdCcj",
        "colab_type": "code",
        "colab": {}
      },
      "source": [
        "dataframe = new_data\n",
        "train = dataframe\n",
        "\n",
        "nominal_error_stats = np.zeros(len(train))\n",
        "predicted_powers = np.zeros(len(train))\n",
        "observed_powers = np.zeros(len(train))\n",
        "\n",
        "for num in range(0,len(train)):\n",
        "  df = train.iloc[num,:]\n",
        "  df = df.copy()\n",
        "  label = df.pop('Solar_energy')\n",
        "  observed_powers[num] = label\n",
        "  df -= mean\n",
        "  df /= std\n",
        "  ds = tf.data.Dataset.from_tensors((dict(df), label))  \n",
        "  ds = ds.batch(1)\n",
        "  tmp = ds.take(1)\n",
        "  loss, mae = model.evaluate(tmp)\n",
        "  nominal_error_stats[num] = mae\n",
        "  predicted_powers[num] = model.predict(tmp)"
      ],
      "execution_count": 0,
      "outputs": []
    },
    {
      "cell_type": "markdown",
      "metadata": {
        "id": "DSXIqGJrl_Yq",
        "colab_type": "text"
      },
      "source": [
        "Save the estimation errors and estimated power generation for future use:"
      ]
    },
    {
      "cell_type": "code",
      "metadata": {
        "id": "2ryhbisv2ZLD",
        "colab_type": "code",
        "colab": {}
      },
      "source": [
        "nominal_error_stats.tofile(\"/content/gdrive/My Drive/Project_DL/nominal_errors_updated\")\n",
        "np.savetxt(fname=\"/content/gdrive/My Drive/Project_DL/nominal_error_stats_all_updated.csv\", delimiter=\",\", X=nominal_error_stats)\n",
        "np.savetxt(fname=\"/content/gdrive/My Drive/Project_DL/predicted_powers_all.csv\", delimiter=\",\", X=predicted_powers)\n",
        "np.savetxt(fname=\"/content/gdrive/My Drive/Project_DL/observed_powers_all.csv\", delimiter=\",\", X=observed_powers)"
      ],
      "execution_count": 0,
      "outputs": []
    },
    {
      "cell_type": "code",
      "metadata": {
        "id": "ePQe2Qwx9VRE",
        "colab_type": "code",
        "outputId": "157f1fad-e728-4498-e5de-e734b123ec74",
        "colab": {
          "base_uri": "https://localhost:8080/",
          "height": 287
        }
      },
      "source": [
        "plt.plot(observed_powers, predicted_powers, 'bo', label='Estimated Power vs. Actual Power')"
      ],
      "execution_count": 0,
      "outputs": [
        {
          "output_type": "execute_result",
          "data": {
            "text/plain": [
              "[<matplotlib.lines.Line2D at 0x7f761ff9abe0>]"
            ]
          },
          "metadata": {
            "tags": []
          },
          "execution_count": 35
        },
        {
          "output_type": "display_data",
          "data": {
            "image/png": "[encoded data removed]",
            "text/plain": [
              "<Figure size 432x288 with 1 Axes>"
            ]
          },
          "metadata": {
            "tags": []
          }
        }
      ]
    },
    {
      "cell_type": "code",
      "metadata": {
        "id": "KlYerEegI6QT",
        "colab_type": "code",
        "outputId": "18c48c35-e27e-43ca-ad40-bc7c8ee78a79",
        "colab": {
          "base_uri": "https://localhost:8080/",
          "height": 34
        }
      },
      "source": [
        "print(np.mean(nominal_error_stats))"
      ],
      "execution_count": 36,
      "outputs": [
        {
          "output_type": "stream",
          "text": [
            "181.84293093520415\n"
          ],
          "name": "stdout"
        }
      ]
    },
    {
      "cell_type": "markdown",
      "metadata": {
        "id": "mgACghxq94c5",
        "colab_type": "text"
      },
      "source": [
        "We next restore the model weights and continue on the performance evaluation:"
      ]
    },
    {
      "cell_type": "code",
      "metadata": {
        "id": "lXpMhcRn81fv",
        "colab_type": "code",
        "outputId": "71fad943-6add-4e60-a84a-44cd43a8e11f",
        "colab": {
          "base_uri": "https://localhost:8080/",
          "height": 34
        }
      },
      "source": [
        "def create_model():\n",
        "  model = tf.keras.Sequential([\n",
        "    feature_layer,\n",
        "    layers.Dense(256, activation='relu'),\n",
        "    layers.Dense(256, activation='relu'),\n",
        "    layers.Dense(256, activation='relu'),\n",
        "    layers.Dropout(0.3),\n",
        "    layers.Dense(1)\n",
        "  ])\n",
        "  model.compile(optimizer='adam', loss='mse', metrics=['mae'])\n",
        "  return model\n",
        "\n",
        "# Restore the weights\n",
        "new_model = create_model()\n",
        "new_model.load_weights('/content/gdrive/My Drive/Project_DL/checkpoints/checkpoint_05_01')"
      ],
      "execution_count": 22,
      "outputs": [
        {
          "output_type": "execute_result",
          "data": {
            "text/plain": [
              "<tensorflow.python.training.tracking.util.CheckpointLoadStatus at 0x7f5b943037f0>"
            ]
          },
          "metadata": {
            "tags": []
          },
          "execution_count": 22
        }
      ]
    },
    {
      "cell_type": "code",
      "metadata": {
        "id": "627BGw_H86Bk",
        "colab_type": "code",
        "colab": {}
      },
      "source": [
        "EPOCHS = 0\n",
        "history = new_model.fit(train_ds, \n",
        "          validation_data=val_ds, \n",
        "          epochs=EPOCHS)"
      ],
      "execution_count": 0,
      "outputs": []
    },
    {
      "cell_type": "code",
      "metadata": {
        "id": "SbOIFmH0--Un",
        "colab_type": "code",
        "colab": {}
      },
      "source": [
        "nominal_error_stats_2 = np.fromfile(\"/content/gdrive/My Drive/Project_DL/nominal_errors_updated\")"
      ],
      "execution_count": 0,
      "outputs": []
    },
    {
      "cell_type": "markdown",
      "metadata": {
        "id": "49RdObSLlTke",
        "colab_type": "text"
      },
      "source": [
        "Daytime and Nighttime Nominal Estimation Errors:"
      ]
    },
    {
      "cell_type": "code",
      "metadata": {
        "id": "ZYZAoSIbqHHD",
        "colab_type": "code",
        "outputId": "404bdfad-558e-4c75-b7b7-a931a07641d0",
        "colab": {
          "base_uri": "https://localhost:8080/",
          "height": 34
        }
      },
      "source": [
        "tmp_errs = nominal_error_stats_2.copy()\n",
        "tmp_errs = tmp_errs[1:8761]\n",
        "print(len(tmp_errs))\n",
        "errors_night = np.zeros(3285)\n",
        "errors_day = np.zeros(5475)  # 5:00 am - 8:00 pm\n",
        "for num in range(0,365):\n",
        "  errors_night[num*9:num*9+5] = tmp_errs[num*24:num*24+5]\n",
        "  errors_day[num*15:num*15+15] = tmp_errs[num*24+5:num*24+20]  \n",
        "  errors_night[num*9+5:num*9+9] = tmp_errs[num*24+20:num*24+24]"
      ],
      "execution_count": 37,
      "outputs": [
        {
          "output_type": "stream",
          "text": [
            "8760\n"
          ],
          "name": "stdout"
        }
      ]
    },
    {
      "cell_type": "code",
      "metadata": {
        "id": "tmGQZMQjZbW6",
        "colab_type": "code",
        "colab": {}
      },
      "source": [
        "np.savetxt(fname=\"/content/gdrive/My Drive/Project_DL/errors_night.csv\", delimiter=\",\", X=errors_night)\n",
        "np.savetxt(fname=\"/content/gdrive/My Drive/Project_DL/errors_day.csv\", delimiter=\",\", X=errors_day)"
      ],
      "execution_count": 0,
      "outputs": []
    },
    {
      "cell_type": "code",
      "metadata": {
        "id": "nkJmF4A8wQvd",
        "colab_type": "code",
        "outputId": "0dfe6e6c-21e1-4920-b75c-b10e3990981c",
        "colab": {
          "base_uri": "https://localhost:8080/",
          "height": 269
        }
      },
      "source": [
        "plt.hist(errors_day,bins=120)\n",
        "plt.show()"
      ],
      "execution_count": 39,
      "outputs": [
        {
          "output_type": "display_data",
          "data": {
            "image/png": "[encoded data removed]",
            "text/plain": [
              "<Figure size 432x288 with 1 Axes>"
            ]
          },
          "metadata": {
            "tags": []
          }
        }
      ]
    },
    {
      "cell_type": "code",
      "metadata": {
        "id": "0Vr5-aYzwV8k",
        "colab_type": "code",
        "outputId": "868ae098-b594-416f-9251-ebaaa61d75c2",
        "colab": {
          "base_uri": "https://localhost:8080/",
          "height": 269
        }
      },
      "source": [
        "plt.hist(errors_night,bins=120)\n",
        "plt.show()"
      ],
      "execution_count": 40,
      "outputs": [
        {
          "output_type": "display_data",
          "data": {
            "image/png": "[encoded data removed]",
            "text/plain": [
              "<Figure size 432x288 with 1 Axes>"
            ]
          },
          "metadata": {
            "tags": []
          }
        }
      ]
    },
    {
      "cell_type": "markdown",
      "metadata": {
        "id": "RxyQfr44m6rW",
        "colab_type": "text"
      },
      "source": [
        "Compute and save the p-values for nominal data:"
      ]
    },
    {
      "cell_type": "code",
      "metadata": {
        "id": "Ye5qPi_5yd-_",
        "colab_type": "code",
        "colab": {}
      },
      "source": [
        "from math import log\n",
        "decision_stat = 0.0\n",
        "alpha = 0.1\n",
        "decision_stat_beta = 0.0\n",
        "beta = 0.05\n",
        "decision_stat_gamma = 0.0\n",
        "gamma = 0.01\n",
        "decision_stat_zeta = 0.0\n",
        "zeta = 0.2\n",
        "\n",
        "new_data2 = all_data.copy()\n",
        "new_data2 = new_data2.drop('Date', axis=1)\n",
        "\n",
        "vlength = len(new_data2)\n",
        "dec_stat_vec = np.zeros(vlength)\n",
        "dec_stat_vec_beta = np.zeros(vlength)\n",
        "dec_stat_vec_gamma = np.zeros(vlength)\n",
        "dec_stat_vec_zeta = np.zeros(vlength)\n",
        "tail_prob_vec = np.zeros(vlength)\n",
        "\n",
        "for num in range(0,vlength-2):\n",
        "  mae = nominal_error_stats_2[num+1]\n",
        "  \n",
        "  rem = num % 24\n",
        "  if  rem < 5:\n",
        "    tail_prob = sum(errors_night > mae)/len(errors_night)\n",
        "    if tail_prob == 0.0:\n",
        "      tail_prob = 1/(len(errors_night)) \n",
        "  elif rem >= 20:\n",
        "    tail_prob = sum(errors_night > mae)/len(errors_night)\n",
        "    if tail_prob == 0.0:\n",
        "      tail_prob = 1/(len(errors_night))\n",
        "  else:\n",
        "    tail_prob = sum(errors_day > mae)/len(errors_day)\n",
        "    if tail_prob == 0.0:\n",
        "      tail_prob = 1/(len(errors_day))\n",
        "  \n",
        "  tail_prob_vec[num] = tail_prob\n",
        "  \n",
        "  decision_stat = max(0.0, decision_stat+log(alpha/tail_prob))\n",
        "  dec_stat_vec[num] = decision_stat\n",
        "  decision_stat_beta = max(0.0, decision_stat_beta+log(beta/tail_prob))\n",
        "  dec_stat_vec_beta[num] = decision_stat_beta\n",
        "  decision_stat_gamma = max(0.0, decision_stat_gamma+log(gamma/tail_prob))\n",
        "  dec_stat_vec_gamma[num] = decision_stat_gamma\n",
        "  decision_stat_zeta = max(0.0, decision_stat_zeta+log(zeta/tail_prob))\n",
        "  dec_stat_vec_zeta[num] = decision_stat_zeta\n",
        "  "
      ],
      "execution_count": 0,
      "outputs": []
    },
    {
      "cell_type": "code",
      "metadata": {
        "id": "aKhwFTJT6JDL",
        "colab_type": "code",
        "colab": {}
      },
      "source": [
        "tail_prob_vec.tofile(\"/content/gdrive/My Drive/Project_DL/tail_prob_vec\")\n",
        "np.savetxt(fname=\"/content/gdrive/My Drive/Project_DL/tail_probabilities_all.csv\", delimiter=\",\", X=tail_prob_vec)  \n",
        "np.savetxt(fname=\"/content/gdrive/My Drive/Project_DL/dec_stat_vec_0p1_all.csv\", delimiter=\",\", X=dec_stat_vec)\n",
        "np.savetxt(fname=\"/content/gdrive/My Drive/Project_DL/dec_stat_vec_0p01_all.csv\", delimiter=\",\", X=dec_stat_vec_gamma)\n",
        "np.savetxt(fname=\"/content/gdrive/My Drive/Project_DL/dec_stat_vec_0p05_all.csv\", delimiter=\",\", X=dec_stat_vec_beta)\n",
        "np.savetxt(fname=\"/content/gdrive/My Drive/Project_DL/dec_stat_vec_0p2_all.csv\", delimiter=\",\", X=dec_stat_vec_zeta)"
      ],
      "execution_count": 0,
      "outputs": []
    },
    {
      "cell_type": "code",
      "metadata": {
        "id": "MHC02TURaVF_",
        "colab_type": "code",
        "colab": {}
      },
      "source": [
        "predicted_powers = np.loadtxt(fname=\"/content/gdrive/My Drive/Project_DL/predicted_powers_all.csv\", delimiter=\",\")\n",
        "observed_powers = np.loadtxt(fname=\"/content/gdrive/My Drive/Project_DL/observed_powers_all.csv\", delimiter=\",\")\n",
        "tail_prob_vec = np.fromfile(\"/content/gdrive/My Drive/Project_DL/tail_prob_vec\")"
      ],
      "execution_count": 0,
      "outputs": []
    },
    {
      "cell_type": "markdown",
      "metadata": {
        "id": "WO8IKw23iRs9",
        "colab_type": "text"
      },
      "source": [
        "Creating subsets to obtain a continuous data stream for the performance evaluation:"
      ]
    },
    {
      "cell_type": "code",
      "metadata": {
        "id": "jsvrDwHvf1-d",
        "colab_type": "code",
        "colab": {}
      },
      "source": [
        "winter_hourly_nominal_errors = np.zeros((82,24))\n",
        "winter_hourly_predicted_powers = np.zeros((82,24))\n",
        "winter_hourly_observed_powers = np.zeros((82,24))\n",
        "winter_hourly_tail_probs = np.zeros((82,24))\n",
        "\n",
        "spring_hourly_nominal_errors = np.zeros((84,24))\n",
        "spring_hourly_predicted_powers = np.zeros((84,24)) \n",
        "spring_hourly_observed_powers = np.zeros((84,24)) \n",
        "spring_hourly_tail_probs = np.zeros((84,24)) \n",
        "\n",
        "summer_hourly_nominal_errors = np.zeros((69,24)) \n",
        "summer_hourly_predicted_powers = np.zeros((69,24))\n",
        "summer_hourly_observed_powers = np.zeros((69,24))\n",
        "summer_hourly_tail_probs = np.zeros((69,24)) \n",
        "\n",
        "fall_hourly_nominal_errors = np.zeros((87,24))\n",
        "fall_hourly_predicted_powers = np.zeros((87,24))\n",
        "fall_hourly_observed_powers = np.zeros((87,24)) \n",
        "fall_hourly_tail_probs = np.zeros((87,24)) "
      ],
      "execution_count": 0,
      "outputs": []
    },
    {
      "cell_type": "code",
      "metadata": {
        "id": "F-5XCTwC1GNh",
        "colab_type": "code",
        "outputId": "005af526-3a2e-4fc7-da78-4f5daf9e63a9",
        "colab": {
          "base_uri": "https://localhost:8080/",
          "height": 52
        }
      },
      "source": [
        "print(all_data['Date'][6577])\n",
        "print(all_data['Hour'][6577])"
      ],
      "execution_count": 43,
      "outputs": [
        {
          "output_type": "stream",
          "text": [
            "11/1/2016\n",
            "1\n"
          ],
          "name": "stdout"
        }
      ]
    },
    {
      "cell_type": "code",
      "metadata": {
        "id": "hX0dwNYDqXpW",
        "colab_type": "code",
        "colab": {}
      },
      "source": [
        "for num in range(0,30):\n",
        "  fall_hourly_nominal_errors[num,:] = nominal_error_stats_2[6577+num*24:6577+num*24+24] # next fall num: 30, next index: 7297\n",
        "  fall_hourly_predicted_powers[num,:] = predicted_powers[6577+num*24:6577+num*24+24]\n",
        "  fall_hourly_observed_powers[num,:] = observed_powers[6577+num*24:6577+num*24+24]\n",
        "  fall_hourly_tail_probs[num,:] = tail_prob_vec[6576+num*24:6576+num*24+24]"
      ],
      "execution_count": 0,
      "outputs": []
    },
    {
      "cell_type": "code",
      "metadata": {
        "id": "L-xawEarmsuy",
        "colab_type": "code",
        "colab": {}
      },
      "source": [
        "for num in range(0,19):\n",
        "  winter_hourly_nominal_errors[num,:] = nominal_error_stats_2[7297+num*24:7297+num*24+24] # next winter num: 19, next index: 7753\n",
        "  winter_hourly_predicted_powers[num,:] = predicted_powers[7297+num*24:7297+num*24+24]\n",
        "  winter_hourly_observed_powers[num,:] = observed_powers[7297+num*24:7297+num*24+24]\n",
        "  winter_hourly_tail_probs[num,:] = tail_prob_vec[7296+num*24:7296+num*24+24]"
      ],
      "execution_count": 0,
      "outputs": []
    },
    {
      "cell_type": "code",
      "metadata": {
        "id": "dtDGMG9br9JA",
        "colab_type": "code",
        "colab": {}
      },
      "source": [
        "for num in range(0,63):\n",
        "  winter_hourly_nominal_errors[num+19,:] = nominal_error_stats_2[7753+num*24:7753+num*24+24] # next index: 9265\n",
        "  winter_hourly_predicted_powers[num+19,:] = predicted_powers[7753+num*24:7753+num*24+24]\n",
        "  winter_hourly_observed_powers[num+19,:] = observed_powers[7753+num*24:7753+num*24+24]\n",
        "  winter_hourly_tail_probs[num+19,:] = tail_prob_vec[7752+num*24:7752+num*24+24]"
      ],
      "execution_count": 0,
      "outputs": []
    },
    {
      "cell_type": "code",
      "metadata": {
        "id": "LZhOfb6UnqKc",
        "colab_type": "code",
        "colab": {}
      },
      "source": [
        "for num in range(0,47):\n",
        "  spring_hourly_nominal_errors[num,:] = nominal_error_stats_2[9265+num*24:9265+num*24+24] # next spring num: 47, next index: 10393\n",
        "  spring_hourly_predicted_powers[num,:] = predicted_powers[9265+num*24:9265+num*24+24]\n",
        "  spring_hourly_observed_powers[num,:] = observed_powers[9265+num*24:9265+num*24+24]\n",
        "  spring_hourly_tail_probs[num,:] = tail_prob_vec[9264+num*24:9264+num*24+24]"
      ],
      "execution_count": 0,
      "outputs": []
    },
    {
      "cell_type": "code",
      "metadata": {
        "id": "hq_1SrhPtn-C",
        "colab_type": "code",
        "colab": {}
      },
      "source": [
        "for num in range(0,18):\n",
        "  spring_hourly_nominal_errors[num+47,:] = nominal_error_stats_2[10393+num*24:10393+num*24+24] # next spring num: 65, next index: 10825\n",
        "  spring_hourly_predicted_powers[num+47,:] = predicted_powers[10393+num*24:10393+num*24+24]\n",
        "  spring_hourly_observed_powers[num+47,:] = observed_powers[10393+num*24:10393+num*24+24]\n",
        "  spring_hourly_tail_probs[num+47,:] = tail_prob_vec[10392+num*24:10392+num*24+24]"
      ],
      "execution_count": 0,
      "outputs": []
    },
    {
      "cell_type": "code",
      "metadata": {
        "id": "j1yP_wPuuOiP",
        "colab_type": "code",
        "colab": {}
      },
      "source": [
        "for num in range(0,19):\n",
        "  spring_hourly_nominal_errors[num+65,:] = nominal_error_stats_2[10825+num*24:10825+num*24+24] # next index: 11281\n",
        "  spring_hourly_predicted_powers[num+65,:] = predicted_powers[10825+num*24:10825+num*24+24]\n",
        "  spring_hourly_observed_powers[num+65,:] = observed_powers[10825+num*24:10825+num*24+24]\n",
        "  spring_hourly_tail_probs[num+65,:] = tail_prob_vec[10824+num*24:10824+num*24+24]"
      ],
      "execution_count": 0,
      "outputs": []
    },
    {
      "cell_type": "code",
      "metadata": {
        "id": "qWZhfMQ0oBKE",
        "colab_type": "code",
        "colab": {}
      },
      "source": [
        "for num in range(0,14):\n",
        "  summer_hourly_nominal_errors[num,:] = nominal_error_stats_2[11281+num*24:11281+num*24+24] # next spring num: 14, next index: 11617 \n",
        "  summer_hourly_predicted_powers[num,:] = predicted_powers[11281+num*24:11281+num*24+24]\n",
        "  summer_hourly_observed_powers[num,:] = observed_powers[11281+num*24:11281+num*24+24]\n",
        "  summer_hourly_tail_probs[num,:] = tail_prob_vec[11280+num*24:11280+num*24+24]"
      ],
      "execution_count": 0,
      "outputs": []
    },
    {
      "cell_type": "code",
      "metadata": {
        "id": "skMTrtM8vTQr",
        "colab_type": "code",
        "colab": {}
      },
      "source": [
        "for num in range(0,55):\n",
        "  summer_hourly_nominal_errors[num+14,:] = nominal_error_stats_2[11617+num*24:11617+num*24+24] # next index: 12937\n",
        "  summer_hourly_predicted_powers[num+14,:] = predicted_powers[11617+num*24:11617+num*24+24]\n",
        "  summer_hourly_observed_powers[num+14,:] = observed_powers[11617+num*24:11617+num*24+24]\n",
        "  summer_hourly_tail_probs[num+14,:] = tail_prob_vec[11616+num*24:11616+num*24+24]"
      ],
      "execution_count": 0,
      "outputs": []
    },
    {
      "cell_type": "code",
      "metadata": {
        "id": "nLjdu6ANwBz_",
        "colab_type": "code",
        "colab": {}
      },
      "source": [
        "for num in range(0,57):\n",
        "  fall_hourly_nominal_errors[num+30,:] = nominal_error_stats_2[12937+num*24:12937+num*24+24] # next fall num: 90, next index: 14305\n",
        "  fall_hourly_predicted_powers[num+30,:] = predicted_powers[12937+num*24:12937+num*24+24]\n",
        "  fall_hourly_observed_powers[num+30,:] = observed_powers[12937+num*24:12937+num*24+24]\n",
        "  fall_hourly_tail_probs[num+30,:] = tail_prob_vec[12936+num*24:12936+num*24+24]"
      ],
      "execution_count": 0,
      "outputs": []
    },
    {
      "cell_type": "markdown",
      "metadata": {
        "id": "7j_O-YaRNR_L",
        "colab_type": "text"
      },
      "source": [
        "Average False Alarm Period Calculations:"
      ]
    },
    {
      "cell_type": "code",
      "metadata": {
        "id": "elozwXj8ib4G",
        "colab_type": "code",
        "colab": {}
      },
      "source": [
        "def frange(x, y, jump):\n",
        "  arr = []\n",
        "  while x < y:\n",
        "    arr = np.append(arr,x)\n",
        "    x += jump\n",
        "  return arr  \n",
        "h = frange(0.01, 14.0, 0.05)\n",
        "#print(h)"
      ],
      "execution_count": 0,
      "outputs": []
    },
    {
      "cell_type": "code",
      "metadata": {
        "id": "xIc8LlQOSxZm",
        "colab_type": "code",
        "colab": {}
      },
      "source": [
        "from math import log\n",
        "alpha = 0.2\n",
        "no_trials = 5000 # number of trials\n",
        "avg_fap = np.zeros(len(h))\n",
        "for num in range(0,no_trials):\n",
        "  alarm_flag = np.zeros(len(h))\n",
        "  decision_stat = 0\n",
        "  t = 0 # time\n",
        "  k = 1 # day index: btw 1 and 365\n",
        "  while alarm_flag[len(h)-1] == 0:\n",
        "    rem = t % 24 # hour index: btw 0 and 23\n",
        "    if k<=90: # winter\n",
        "      rand_ind = np.random.randint(82)\n",
        "      tail_prob = winter_hourly_tail_probs[rand_ind,rem]\n",
        "    elif k>90 and k<=182: # spring\n",
        "      rand_ind = np.random.randint(84)\n",
        "      tail_prob = spring_hourly_tail_probs[rand_ind,rem]\n",
        "    elif k>182 and k<=274: # summer\n",
        "      rand_ind = np.random.randint(69)\n",
        "      tail_prob = summer_hourly_tail_probs[rand_ind,rem]\n",
        "    elif k>274 and k<=365: # fall\n",
        "      rand_ind = np.random.randint(87)\n",
        "      tail_prob = fall_hourly_tail_probs[rand_ind,rem]  \n",
        "      if k==365:\n",
        "        k = 0       \n",
        "    decision_stat = max(0.0, decision_stat+log(alpha/tail_prob))\n",
        "    avg_fap = avg_fap + (t+1)*(decision_stat >= h)*(alarm_flag == 0)\n",
        "    alarm_flag = alarm_flag + (decision_stat >= h)*(alarm_flag == 0)\n",
        "    if rem==23:\n",
        "      k = k+1\n",
        "    t = t+1\n",
        "avg_fap = avg_fap/no_trials       \n",
        "avg_fap.tofile(\"/content/gdrive/My Drive/Project_DL/avg_fap_alpha_0p2\")\n",
        "np.savetxt(fname=\"/content/gdrive/My Drive/Project_DL/avg_fap_alpha_0p2.csv\", delimiter=\",\", X=avg_fap) \n"
      ],
      "execution_count": 0,
      "outputs": []
    },
    {
      "cell_type": "code",
      "metadata": {
        "id": "dKw7Bc-r8exY",
        "colab_type": "code",
        "outputId": "8ff89419-3a00-4a73-edf8-053ddd9c1376",
        "colab": {
          "base_uri": "https://localhost:8080/",
          "height": 269
        }
      },
      "source": [
        "import scipy\n",
        "avg_fap = np.fromfile(\"/content/gdrive/My Drive/Project_DL/avg_fap_alpha_0p2\")\n",
        "plt.semilogy(h, avg_fap, label='Average False Alarm Period vs. Test Threshold')  \n",
        "plt.show()"
      ],
      "execution_count": 54,
      "outputs": [
        {
          "output_type": "display_data",
          "data": {
            "image/png": "[encoded data removed]",
            "text/plain": [
              "<Figure size 432x288 with 1 Axes>"
            ]
          },
          "metadata": {
            "tags": []
          }
        }
      ]
    },
    {
      "cell_type": "markdown",
      "metadata": {
        "id": "8HnKiwFNi9b2",
        "colab_type": "text"
      },
      "source": [
        "Sample Path of the Decision Statistic:"
      ]
    },
    {
      "cell_type": "code",
      "metadata": {
        "id": "x9VRR7CA0Kcp",
        "colab_type": "code",
        "outputId": "798a2c49-98f7-4bba-a2b4-170293137fa3",
        "colab": {
          "base_uri": "https://localhost:8080/",
          "height": 269
        }
      },
      "source": [
        "from math import log\n",
        "alpha = 0.2\n",
        "decision_stat = 0\n",
        "dec_stat_vec = np.zeros(288)\n",
        "FDI_mag = 1500 # attack magnitude, attack: Uniform[1000,1500)\n",
        "t = 0 # time\n",
        "while t<288:\n",
        "  rem = t % 24 # hour index: btw 0 and 23\n",
        "  rand_ind = np.random.randint(84)\n",
        "  if t<248:\n",
        "    tail_prob = spring_hourly_tail_probs[rand_ind,rem]\n",
        "  else:\n",
        "    pred_power = spring_hourly_predicted_powers[rand_ind,rem] \n",
        "    obs_power = spring_hourly_observed_powers[rand_ind,rem] + (FDI_mag*np.random.uniform(2/3,1.0))\n",
        "    mae = np.abs(obs_power - pred_power) # observed mean absolute error\n",
        "    if  rem < 5:\n",
        "      tail_prob = sum(errors_night > mae)/len(errors_night)\n",
        "      if tail_prob == 0.0:\n",
        "        tail_prob = 1/(len(errors_night)) \n",
        "    elif rem >= 20:\n",
        "      tail_prob = sum(errors_night > mae)/len(errors_night)\n",
        "      if tail_prob == 0.0:\n",
        "        tail_prob = 1/(len(errors_night))\n",
        "    else:\n",
        "      tail_prob = sum(errors_day > mae)/len(errors_day)\n",
        "      if tail_prob == 0.0:\n",
        "        tail_prob = 1/(len(errors_day))    \n",
        "  decision_stat = max(0.0, decision_stat+log(alpha/tail_prob))\n",
        "  dec_stat_vec[t] = decision_stat\n",
        "  if rem==23:\n",
        "    k = k+1  \n",
        "  t = t+1\n",
        " \n",
        "plt.plot(dec_stat_vec)\n",
        "plt.show()"
      ],
      "execution_count": 0,
      "outputs": [
        {
          "output_type": "display_data",
          "data": {
            "image/png": "[encoded data removed]",
            "text/plain": [
              "<Figure size 432x288 with 1 Axes>"
            ]
          },
          "metadata": {
            "tags": []
          }
        }
      ]
    },
    {
      "cell_type": "code",
      "metadata": {
        "id": "bAAuiqLb7UEQ",
        "colab_type": "code",
        "colab": {}
      },
      "source": [
        "np.savetxt(fname=\"/content/gdrive/My Drive/Project_DL/sample_path_1000_1500_alpha_0p2.csv\", delimiter=\",\", X=dec_stat_vec) "
      ],
      "execution_count": 0,
      "outputs": []
    },
    {
      "cell_type": "markdown",
      "metadata": {
        "id": "v8EurTrUYRkh",
        "colab_type": "text"
      },
      "source": [
        "Average Detection Delay and True Positive Rate Calculations:"
      ]
    },
    {
      "cell_type": "markdown",
      "metadata": {
        "id": "VzFpynNZYiaz",
        "colab_type": "text"
      },
      "source": [
        "Case 1: False Data Injection Attack:"
      ]
    },
    {
      "cell_type": "code",
      "metadata": {
        "id": "8QWFFTQMYXWv",
        "colab_type": "code",
        "colab": {}
      },
      "source": [
        "from math import log\n",
        "alpha = 0.2\n",
        "no_trials = 10000 # number of trials\n",
        "avg_det_delay = np.zeros(len(h)) # average detection delay\n",
        "num_detected = np.zeros(len(h)) # number of detected trials (within max. acceptable det. delay)\n",
        "FDI_mag = 1500 # attack magnitude, attack: Uniform[1000,1500)\n",
        "for num in range(0,no_trials):\n",
        "  alarm_flag = np.zeros(len(h))\n",
        "  decision_stat = 0\n",
        "  t = 8 # time\n",
        "  k = np.random.randint(1,high=365) # day index: random starting point at each trial\n",
        "  while alarm_flag[len(h)-1] == 0 or t<=16:\n",
        "    rem = t % 24 # hour index: btw 0 and 23\n",
        "    if k<=90: # winter\n",
        "      rand_ind = np.random.randint(82)\n",
        "      pred_power = winter_hourly_predicted_powers[rand_ind,rem] \n",
        "      if rem>=8 and rem<=15: # attack happens between 8 am - 4 pm\n",
        "        obs_power = winter_hourly_observed_powers[rand_ind,rem] + (FDI_mag*np.random.uniform(2/3,1.0))\n",
        "      else:\n",
        "        obs_power = winter_hourly_observed_powers[rand_ind,rem]\n",
        "    elif k>90 and k<=182: # spring\n",
        "      rand_ind = np.random.randint(84)\n",
        "      pred_power = spring_hourly_predicted_powers[rand_ind,rem]\n",
        "      if rem>=8 and rem<=15:\n",
        "        obs_power = spring_hourly_observed_powers[rand_ind,rem] + (FDI_mag*np.random.uniform(2/3,1.0))\n",
        "      else:\n",
        "        obs_power = spring_hourly_observed_powers[rand_ind,rem]\n",
        "    elif k>182 and k<=274: # summer\n",
        "      rand_ind = np.random.randint(69)\n",
        "      pred_power = summer_hourly_predicted_powers[rand_ind,rem]\n",
        "      if rem>=8 and rem<=15:\n",
        "        obs_power = summer_hourly_observed_powers[rand_ind,rem] + (FDI_mag*np.random.uniform(2/3,1.0))\n",
        "      else:\n",
        "        obs_power = summer_hourly_observed_powers[rand_ind,rem]\n",
        "    elif k>274 and k<=365: # fall\n",
        "      rand_ind = np.random.randint(87)\n",
        "      pred_power = fall_hourly_predicted_powers[rand_ind,rem]\n",
        "      if rem>=8 and rem<=15:\n",
        "        obs_power = fall_hourly_observed_powers[rand_ind,rem] + (FDI_mag*np.random.uniform(2/3,1.0))\n",
        "      else:\n",
        "        obs_power = fall_hourly_observed_powers[rand_ind,rem]        \n",
        "      if k==365:\n",
        "        k = 0     \n",
        "    mae = np.abs(obs_power - pred_power) # observed mean absolute error\n",
        "    if  rem < 5:\n",
        "      tail_prob = sum(errors_night > mae)/len(errors_night)\n",
        "      if tail_prob == 0.0:\n",
        "        tail_prob = 1/(len(errors_night)) \n",
        "    elif rem >= 20:\n",
        "      tail_prob = sum(errors_night > mae)/len(errors_night)\n",
        "      if tail_prob == 0.0:\n",
        "        tail_prob = 1/(len(errors_night))\n",
        "    else:\n",
        "      tail_prob = sum(errors_day > mae)/len(errors_day)\n",
        "      if tail_prob == 0.0:\n",
        "        tail_prob = 1/(len(errors_day))    \n",
        "    decision_stat = max(0.0, decision_stat+log(alpha/tail_prob))\n",
        "    avg_det_delay = avg_det_delay + (t-8)*(decision_stat >= h)*(alarm_flag == 0) # attack starts at t=8\n",
        "    alarm_flag = alarm_flag + (decision_stat >= h)*(alarm_flag == 0)\n",
        "    if t==16: # attack needs to be detected within the same day (max. allowed det. delay is 8)\n",
        "      num_detected = num_detected + alarm_flag   \n",
        "    if rem==23:\n",
        "      k = k+1\n",
        "    t = t+1\n",
        "avg_det_delay = avg_det_delay/no_trials   \n",
        "true_positive_rate = num_detected/no_trials\n",
        "avg_det_delay.tofile(\"/content/gdrive/My Drive/Project_DL/avg_det_delay_1000_1500_alpha_0p2\")\n",
        "np.savetxt(fname=\"/content/gdrive/My Drive/Project_DL/avg_det_delay_1000_1500_alpha_0p2.csv\", delimiter=\",\", X=avg_det_delay) \n",
        "true_positive_rate.tofile(\"/content/gdrive/My Drive/Project_DL/true_positive_rate_1000_1500_alpha_0p2\")\n",
        "np.savetxt(fname=\"/content/gdrive/My Drive/Project_DL/true_positive_rate_1000_1500_alpha_0p2.csv\", delimiter=\",\", X=true_positive_rate) "
      ],
      "execution_count": 0,
      "outputs": []
    },
    {
      "cell_type": "code",
      "metadata": {
        "id": "S8i4ui36aDou",
        "colab_type": "code",
        "colab": {}
      },
      "source": [
        "avg_fap = np.fromfile(\"/content/gdrive/My Drive/Project_DL/avg_fap_alpha_0p2\")\n",
        "avg_det_delay = np.fromfile(\"/content/gdrive/My Drive/Project_DL/avg_det_delay_1000_1500_alpha_0p2\")\n",
        "true_positive_rate = np.fromfile(\"/content/gdrive/My Drive/Project_DL/true_positive_rate_1000_1500_alpha_0p2\")"
      ],
      "execution_count": 0,
      "outputs": []
    },
    {
      "cell_type": "code",
      "metadata": {
        "id": "7GbouNmyzMGZ",
        "colab_type": "code",
        "outputId": "e82ff734-02ec-4026-afbb-b622d1f83fc9",
        "colab": {
          "base_uri": "https://localhost:8080/",
          "height": 269
        }
      },
      "source": [
        "plt.plot(avg_fap, avg_det_delay, label='ADD_vs_FAP')\n",
        "plt.show()"
      ],
      "execution_count": 56,
      "outputs": [
        {
          "output_type": "display_data",
          "data": {
            "image/png": "[encoded data removed]",
            "text/plain": [
              "<Figure size 432x288 with 1 Axes>"
            ]
          },
          "metadata": {
            "tags": []
          }
        }
      ]
    },
    {
      "cell_type": "code",
      "metadata": {
        "id": "MOjPWiX0zgHr",
        "colab_type": "code",
        "outputId": "2b5af175-1f30-4bcf-dda0-655fab15127c",
        "colab": {
          "base_uri": "https://localhost:8080/",
          "height": 273
        }
      },
      "source": [
        "plt.semilogx(1/avg_fap, true_positive_rate, label='ROC_Curve')\n",
        "plt.show()"
      ],
      "execution_count": 57,
      "outputs": [
        {
          "output_type": "display_data",
          "data": {
            "image/png": "[encoded data removed]",
            "text/plain": [
              "<Figure size 432x288 with 1 Axes>"
            ]
          },
          "metadata": {
            "tags": []
          }
        }
      ]
    },
    {
      "cell_type": "markdown",
      "metadata": {
        "id": "8hzj3JPw_ldE",
        "colab_type": "text"
      },
      "source": [
        "Anomaly: 50% Performance Reduction:"
      ]
    },
    {
      "cell_type": "code",
      "metadata": {
        "id": "ecZtZnrF_eB8",
        "colab_type": "code",
        "colab": {}
      },
      "source": [
        "from math import log\n",
        "alpha = 0.2\n",
        "no_trials = 10000 # number of trials\n",
        "avg_det_delay = np.zeros(len(h)) # average detection delay\n",
        "num_detected = np.zeros(len(h)) # number of detected trials (within max. acceptable det. delay)\n",
        "for num in range(0,no_trials):\n",
        "  alarm_flag = np.zeros(len(h))\n",
        "  decision_stat = 0\n",
        "  t = 8 # anomaly starting time (change-point)\n",
        "  k = np.random.randint(1,high=365) # day index: random starting point at each trial\n",
        "  while alarm_flag[len(h)-1] == 0 or t<=16:\n",
        "    rem = t % 24 # hour index: btw 0 and 23\n",
        "    if k<=90: # winter\n",
        "      rand_ind = np.random.randint(82)\n",
        "      pred_power = winter_hourly_predicted_powers[rand_ind,rem] \n",
        "      obs_power = 0.5*winter_hourly_observed_powers[rand_ind,rem]\n",
        "    elif k>90 and k<=182: # spring\n",
        "      rand_ind = np.random.randint(84)\n",
        "      pred_power = spring_hourly_predicted_powers[rand_ind,rem]\n",
        "      obs_power = 0.5*spring_hourly_observed_powers[rand_ind,rem]\n",
        "    elif k>182 and k<=274: # summer\n",
        "      rand_ind = np.random.randint(69)\n",
        "      pred_power = summer_hourly_predicted_powers[rand_ind,rem]\n",
        "      obs_power = 0.5*summer_hourly_observed_powers[rand_ind,rem]\n",
        "    elif k>274 and k<=365: # fall\n",
        "      rand_ind = np.random.randint(87)\n",
        "      pred_power = fall_hourly_predicted_powers[rand_ind,rem]\n",
        "      obs_power = 0.5*fall_hourly_observed_powers[rand_ind,rem]   \n",
        "      if k==365:\n",
        "        k = 0     \n",
        "    mae = np.abs(obs_power - pred_power) # observed mean absolute error\n",
        "    if  rem < 5:\n",
        "      tail_prob = sum(errors_night > mae)/len(errors_night)\n",
        "      if tail_prob == 0.0:\n",
        "        tail_prob = 1/(len(errors_night)) \n",
        "    elif rem >= 20:\n",
        "      tail_prob = sum(errors_night > mae)/len(errors_night)\n",
        "      if tail_prob == 0.0:\n",
        "        tail_prob = 1/(len(errors_night))\n",
        "    else:\n",
        "      tail_prob = sum(errors_day > mae)/len(errors_day)\n",
        "      if tail_prob == 0.0:\n",
        "        tail_prob = 1/(len(errors_day))    \n",
        "    decision_stat = max(0.0, decision_stat+log(alpha/tail_prob))\n",
        "    avg_det_delay = avg_det_delay + (t-8)*(decision_stat >= h)*(alarm_flag == 0) # attack starts at t=8\n",
        "    alarm_flag = alarm_flag + (decision_stat >= h)*(alarm_flag == 0)\n",
        "    if t==16: # attack needs to be detected within the same day (max. allowed det. delay is 8)\n",
        "      num_detected = num_detected + alarm_flag   \n",
        "    if rem==23:\n",
        "      k = k+1\n",
        "    t = t+1\n",
        "avg_det_delay = avg_det_delay/no_trials   \n",
        "true_positive_rate = num_detected/no_trials\n",
        "avg_det_delay.tofile(\"/content/gdrive/My Drive/Project_DL/avg_det_delay_perf_red_50_alpha_0p2\")\n",
        "np.savetxt(fname=\"/content/gdrive/My Drive/Project_DL/avg_det_delay_perf_red_50_alpha_0p2.csv\", delimiter=\",\", X=avg_det_delay) \n",
        "true_positive_rate.tofile(\"/content/gdrive/My Drive/Project_DL/true_positive_rate_perf_red_50_alpha_0p2\")\n",
        "np.savetxt(fname=\"/content/gdrive/My Drive/Project_DL/true_positive_rate_perf_red_50_alpha_0p2.csv\", delimiter=\",\", X=true_positive_rate) "
      ],
      "execution_count": 0,
      "outputs": []
    },
    {
      "cell_type": "code",
      "metadata": {
        "id": "qLy2UdTW_eLz",
        "colab_type": "code",
        "outputId": "9a1309f3-5c5f-42d1-ebcc-67b86ac8205e",
        "colab": {
          "base_uri": "https://localhost:8080/",
          "height": 269
        }
      },
      "source": [
        "avg_fap = np.fromfile(\"/content/gdrive/My Drive/Project_DL/avg_fap_alpha_0p2\")\n",
        "avg_det_delay = np.fromfile(\"/content/gdrive/My Drive/Project_DL/avg_det_delay_perf_red_50_alpha_0p2\")\n",
        "true_positive_rate = np.fromfile(\"/content/gdrive/My Drive/Project_DL/true_positive_rate_perf_red_50_alpha_0p2\")\n",
        "plt.plot(avg_fap, avg_det_delay, label='ADD_vs_FAP')\n",
        "plt.show()"
      ],
      "execution_count": 58,
      "outputs": [
        {
          "output_type": "display_data",
          "data": {
            "image/png": "[encoded data removed]",
            "text/plain": [
              "<Figure size 432x288 with 1 Axes>"
            ]
          },
          "metadata": {
            "tags": []
          }
        }
      ]
    },
    {
      "cell_type": "code",
      "metadata": {
        "id": "SdrfVjnfh4P0",
        "colab_type": "code",
        "outputId": "3fc49af0-7b3e-4766-a506-b557f20930eb",
        "colab": {
          "base_uri": "https://localhost:8080/",
          "height": 273
        }
      },
      "source": [
        "plt.semilogx(1/avg_fap, true_positive_rate, label='ROC_Curve')\n",
        "plt.show()"
      ],
      "execution_count": 59,
      "outputs": [
        {
          "output_type": "display_data",
          "data": {
            "image/png": "[encoded data removed]",
            "text/plain": [
              "<Figure size 432x288 with 1 Axes>"
            ]
          },
          "metadata": {
            "tags": []
          }
        }
      ]
    },
    {
      "cell_type": "markdown",
      "metadata": {
        "id": "QHSrM0SRNXs2",
        "colab_type": "text"
      },
      "source": [
        "**Benchmark Test: Outlier Detector based on Estimation Errors**"
      ]
    },
    {
      "cell_type": "markdown",
      "metadata": {
        "id": "HQk17RFNNfle",
        "colab_type": "text"
      },
      "source": [
        "Average False Alarm Period"
      ]
    },
    {
      "cell_type": "code",
      "metadata": {
        "id": "SD9mqURfOQcj",
        "colab_type": "code",
        "colab": {}
      },
      "source": [
        "def frange(x, y, jump):\n",
        "  arr = []\n",
        "  while x < y:\n",
        "    arr = np.append(arr,x)\n",
        "    x += jump\n",
        "  return arr  \n",
        "h = frange(0.01, 2800.1, 1)"
      ],
      "execution_count": 0,
      "outputs": []
    },
    {
      "cell_type": "code",
      "metadata": {
        "id": "p9JDbV_NNiks",
        "colab_type": "code",
        "colab": {}
      },
      "source": [
        "no_trials = 5000 # number of trials\n",
        "avg_fap = np.zeros(len(h))\n",
        "for num in range(0,no_trials):\n",
        "  alarm_flag = np.zeros(len(h))\n",
        "  t = 0 # time\n",
        "  k = 1 # day index: btw 1 and 365\n",
        "  while alarm_flag[len(h)-1] == 0:\n",
        "    #print(t)\n",
        "    rem = t % 24 # hour index: btw 0 and 23\n",
        "    if k<=90: # winter\n",
        "      rand_ind = np.random.randint(82)\n",
        "      mae = winter_hourly_nominal_errors[rand_ind,rem]\n",
        "    elif k>90 and k<=182: # spring\n",
        "      rand_ind = np.random.randint(84)\n",
        "      mae = spring_hourly_nominal_errors[rand_ind,rem]\n",
        "    elif k>182 and k<=274: # summer\n",
        "      rand_ind = np.random.randint(69)\n",
        "      mae = summer_hourly_nominal_errors[rand_ind,rem]\n",
        "    elif k>274 and k<=365: # fall\n",
        "      rand_ind = np.random.randint(87)\n",
        "      mae = fall_hourly_nominal_errors[rand_ind,rem]  \n",
        "      if k==365:\n",
        "        k = 0       \n",
        "    decision_stat = mae\n",
        "    avg_fap = avg_fap + (t+1)*(decision_stat >= h)*(alarm_flag == 0)\n",
        "    alarm_flag = alarm_flag + (decision_stat >= h)*(alarm_flag == 0)\n",
        "    if rem==23:\n",
        "      k = k+1\n",
        "    t = t+1\n",
        "avg_fap = avg_fap/no_trials  \n",
        "avg_fap.tofile(\"/content/gdrive/My Drive/Project_DL/avg_fap_outlier_detector\")\n",
        "np.savetxt(fname=\"/content/gdrive/My Drive/Project_DL/avg_fap_outlier_detector.csv\", delimiter=\",\", X=avg_fap) "
      ],
      "execution_count": 0,
      "outputs": []
    },
    {
      "cell_type": "code",
      "metadata": {
        "id": "L3-aw7gbiWpJ",
        "colab_type": "code",
        "outputId": "057e636c-495c-4bf2-f286-27fb9a0cb955",
        "colab": {
          "base_uri": "https://localhost:8080/",
          "height": 52
        }
      },
      "source": [
        "print(avg_fap)"
      ],
      "execution_count": 0,
      "outputs": [
        {
          "output_type": "stream",
          "text": [
            "[1.0108000e+00 2.6084000e+00 3.5858000e+00 ... 7.6725984e+03 7.6725984e+03\n",
            " 7.6725984e+03]\n"
          ],
          "name": "stdout"
        }
      ]
    },
    {
      "cell_type": "markdown",
      "metadata": {
        "id": "pgGyj4nwPt4t",
        "colab_type": "text"
      },
      "source": [
        "Average Detection Delay and True Positive Rate Computations:"
      ]
    },
    {
      "cell_type": "markdown",
      "metadata": {
        "id": "4qeLGKnTPui3",
        "colab_type": "text"
      },
      "source": [
        "Case 1: FDI Attack"
      ]
    },
    {
      "cell_type": "code",
      "metadata": {
        "id": "oxABfgMOPrfP",
        "colab_type": "code",
        "colab": {}
      },
      "source": [
        "no_trials = 10000 # number of trials\n",
        "avg_det_delay = np.zeros(len(h)) # average detection delay\n",
        "num_detected = np.zeros(len(h)) # number of detected trials (within max. acceptable det. delay)\n",
        "FDI_mag = 1500 # attack magnitude, attack: Uniform[1000,1500)\n",
        "for num in range(0,no_trials):\n",
        "  alarm_flag = np.zeros(len(h))\n",
        "  t = 8 # initial time, also change-point\n",
        "  k = np.random.randint(1,high=365) # day index: random starting point at each trial\n",
        "  while alarm_flag[len(h)-1] == 0 or t<=16:\n",
        "    rem = t % 24 # hour index: btw 0 and 23\n",
        "    if k<=90: # winter\n",
        "      rand_ind = np.random.randint(82)\n",
        "      pred_power = winter_hourly_predicted_powers[rand_ind,rem] \n",
        "      if rem>=8 and rem<=15: # attack happens between 8 am - 4 pm\n",
        "        obs_power = winter_hourly_observed_powers[rand_ind,rem] + (FDI_mag*np.random.uniform(2/3,1.0))\n",
        "      else:\n",
        "        obs_power = winter_hourly_observed_powers[rand_ind,rem]\n",
        "    elif k>90 and k<=182: # spring\n",
        "      rand_ind = np.random.randint(84)\n",
        "      pred_power = spring_hourly_predicted_powers[rand_ind,rem]\n",
        "      if rem>=8 and rem<=15:\n",
        "        obs_power = spring_hourly_observed_powers[rand_ind,rem] + (FDI_mag*np.random.uniform(2/3,1.0))\n",
        "      else:\n",
        "        obs_power = spring_hourly_observed_powers[rand_ind,rem]\n",
        "    elif k>182 and k<=274: # summer\n",
        "      rand_ind = np.random.randint(69)\n",
        "      pred_power = summer_hourly_predicted_powers[rand_ind,rem]\n",
        "      if rem>=8 and rem<=15:\n",
        "        obs_power = summer_hourly_observed_powers[rand_ind,rem] + (FDI_mag*np.random.uniform(2/3,1.0))\n",
        "      else:\n",
        "        obs_power = summer_hourly_observed_powers[rand_ind,rem]\n",
        "    elif k>274 and k<=365: # fall\n",
        "      rand_ind = np.random.randint(87)\n",
        "      pred_power = fall_hourly_predicted_powers[rand_ind,rem]\n",
        "      if rem>=8 and rem<=15:\n",
        "        obs_power = fall_hourly_observed_powers[rand_ind,rem] + (FDI_mag*np.random.uniform(2/3,1.0))\n",
        "      else:\n",
        "        obs_power = fall_hourly_observed_powers[rand_ind,rem]        \n",
        "      if k==365:\n",
        "        k = 0     \n",
        "    mae = np.abs(obs_power - pred_power) # observed mean absolute error\n",
        "    decision_stat = mae\n",
        "    avg_det_delay = avg_det_delay + (t-8)*(decision_stat >= h)*(alarm_flag == 0) # attack starts at t=8\n",
        "    alarm_flag = alarm_flag + (decision_stat >= h)*(alarm_flag == 0)\n",
        "    if t==16: # attack needs to be detected within the same day (max. allowed det. delay is 8 hours)\n",
        "      num_detected = num_detected + alarm_flag   \n",
        "    if rem==23:\n",
        "      k = k+1\n",
        "    t = t+1\n",
        "avg_det_delay = avg_det_delay/no_trials   \n",
        "true_positive_rate = num_detected/no_trials\n",
        "avg_det_delay.tofile(\"/content/gdrive/My Drive/Project_DL/avg_det_delay_FDI_outlier_detector\")\n",
        "np.savetxt(fname=\"/content/gdrive/My Drive/Project_DL/avg_det_delay_FDI_outlier_detector.csv\", delimiter=\",\", X=avg_det_delay) \n",
        "true_positive_rate.tofile(\"/content/gdrive/My Drive/Project_DL/true_positive_rate_FDI_outlier_detector\")\n",
        "np.savetxt(fname=\"/content/gdrive/My Drive/Project_DL/true_positive_rate_FDI_outlier_detector.csv\", delimiter=\",\", X=true_positive_rate) "
      ],
      "execution_count": 0,
      "outputs": []
    },
    {
      "cell_type": "code",
      "metadata": {
        "id": "J3dskxMJQ_Va",
        "colab_type": "code",
        "outputId": "282364d3-614c-42ac-844f-a35bb778ba3d",
        "colab": {
          "base_uri": "https://localhost:8080/",
          "height": 269
        }
      },
      "source": [
        "avg_fap = np.fromfile(\"/content/gdrive/My Drive/Project_DL/avg_fap_outlier_detector\")\n",
        "avg_det_delay = np.fromfile(\"/content/gdrive/My Drive/Project_DL/avg_det_delay_FDI_outlier_detector\")\n",
        "true_positive_rate = np.fromfile(\"/content/gdrive/My Drive/Project_DL/true_positive_rate_FDI_outlier_detector\")\n",
        "plt.plot(avg_fap, avg_det_delay, label='ADD_vs_FAP')\n",
        "plt.show()"
      ],
      "execution_count": 61,
      "outputs": [
        {
          "output_type": "display_data",
          "data": {
            "image/png": "[encoded data removed]",
            "text/plain": [
              "<Figure size 432x288 with 1 Axes>"
            ]
          },
          "metadata": {
            "tags": []
          }
        }
      ]
    },
    {
      "cell_type": "code",
      "metadata": {
        "id": "oipZKaS0RHvQ",
        "colab_type": "code",
        "outputId": "b3796914-d80d-4f08-a128-b5d15f9561c7",
        "colab": {
          "base_uri": "https://localhost:8080/",
          "height": 273
        }
      },
      "source": [
        "plt.semilogx(1/avg_fap, true_positive_rate, label='ROC_Curve')\n",
        "plt.show()"
      ],
      "execution_count": 62,
      "outputs": [
        {
          "output_type": "display_data",
          "data": {
            "image/png": "[encoded data removed]",
            "text/plain": [
              "<Figure size 432x288 with 1 Axes>"
            ]
          },
          "metadata": {
            "tags": []
          }
        }
      ]
    },
    {
      "cell_type": "markdown",
      "metadata": {
        "id": "dH6xRyRKURpb",
        "colab_type": "text"
      },
      "source": [
        "Case 2: 50% Performance Loss"
      ]
    },
    {
      "cell_type": "code",
      "metadata": {
        "id": "17-HPqYkUUow",
        "colab_type": "code",
        "colab": {}
      },
      "source": [
        "from math import log\n",
        "no_trials = 10000 # number of trials\n",
        "avg_det_delay = np.zeros(len(h)) # average detection delay\n",
        "num_detected = np.zeros(len(h)) # number of detected trials (within max. acceptable det. delay)\n",
        "for num in range(0,no_trials):\n",
        "  alarm_flag = np.zeros(len(h))\n",
        "  t = 8 # anomaly starting time (change-point)\n",
        "  k = np.random.randint(1,high=365) # day index: random starting point at each trial\n",
        "  while alarm_flag[len(h)-1] == 0 or t<=16:\n",
        "    rem = t % 24 # hour index: btw 0 and 23\n",
        "    if k<=90: # winter\n",
        "      rand_ind = np.random.randint(82)\n",
        "      pred_power = winter_hourly_predicted_powers[rand_ind,rem] \n",
        "      obs_power = 0.5*winter_hourly_observed_powers[rand_ind,rem]\n",
        "    elif k>90 and k<=182: # spring\n",
        "      rand_ind = np.random.randint(84)\n",
        "      pred_power = spring_hourly_predicted_powers[rand_ind,rem]\n",
        "      obs_power = 0.5*spring_hourly_observed_powers[rand_ind,rem]\n",
        "    elif k>182 and k<=274: # summer\n",
        "      rand_ind = np.random.randint(69)\n",
        "      pred_power = summer_hourly_predicted_powers[rand_ind,rem]\n",
        "      obs_power = 0.5*summer_hourly_observed_powers[rand_ind,rem]\n",
        "    elif k>274 and k<=365: # fall\n",
        "      rand_ind = np.random.randint(87)\n",
        "      pred_power = fall_hourly_predicted_powers[rand_ind,rem]\n",
        "      obs_power = 0.5*fall_hourly_observed_powers[rand_ind,rem]   \n",
        "      if k==365:\n",
        "        k = 0     \n",
        "    mae = np.abs(obs_power - pred_power) # observed mean absolute error   \n",
        "    decision_stat = mae\n",
        "    avg_det_delay = avg_det_delay + (t-8)*(decision_stat >= h)*(alarm_flag == 0) # attack starts at t=8\n",
        "    alarm_flag = alarm_flag + (decision_stat >= h)*(alarm_flag == 0)\n",
        "    if t==16: # attack needs to be detected within the same day (max. allowed det. delay is 8)\n",
        "      num_detected = num_detected + alarm_flag   \n",
        "    if rem==23:\n",
        "      k = k+1\n",
        "    t = t+1\n",
        "avg_det_delay = avg_det_delay/no_trials   \n",
        "true_positive_rate = num_detected/no_trials\n",
        "avg_det_delay.tofile(\"/content/gdrive/My Drive/Project_DL/avg_det_delay_perf_red_50_outlier_detector\")\n",
        "np.savetxt(fname=\"/content/gdrive/My Drive/Project_DL/avg_det_delay_perf_red_50_outlier_detector.csv\", delimiter=\",\", X=avg_det_delay) \n",
        "true_positive_rate.tofile(\"/content/gdrive/My Drive/Project_DL/true_positive_rate_perf_red_50_outlier_detector\")\n",
        "np.savetxt(fname=\"/content/gdrive/My Drive/Project_DL/true_positive_rate_perf_red_50_outlier_detector.csv\", delimiter=\",\", X=true_positive_rate) "
      ],
      "execution_count": 0,
      "outputs": []
    },
    {
      "cell_type": "code",
      "metadata": {
        "id": "iQnbfzJzVg14",
        "colab_type": "code",
        "outputId": "7ce2cf5e-c203-45ae-9995-0fb5dd935bc4",
        "colab": {
          "base_uri": "https://localhost:8080/",
          "height": 269
        }
      },
      "source": [
        "avg_fap = np.fromfile(\"/content/gdrive/My Drive/Project_DL/avg_fap_outlier_detector\")\n",
        "avg_det_delay = np.fromfile(\"/content/gdrive/My Drive/Project_DL/avg_det_delay_perf_red_50_outlier_detector\")\n",
        "true_positive_rate = np.fromfile(\"/content/gdrive/My Drive/Project_DL/true_positive_rate_perf_red_50_outlier_detector\")\n",
        "plt.plot(avg_fap, avg_det_delay, label='ADD_vs_FAP')\n",
        "plt.show()"
      ],
      "execution_count": 63,
      "outputs": [
        {
          "output_type": "display_data",
          "data": {
            "image/png": "[encoded data removed]",
            "text/plain": [
              "<Figure size 432x288 with 1 Axes>"
            ]
          },
          "metadata": {
            "tags": []
          }
        }
      ]
    },
    {
      "cell_type": "code",
      "metadata": {
        "id": "rensnoOGWMoA",
        "colab_type": "code",
        "outputId": "54fb6e4c-3ce1-4d96-9ac2-814b67a0b893",
        "colab": {
          "base_uri": "https://localhost:8080/",
          "height": 273
        }
      },
      "source": [
        "plt.semilogx(1/avg_fap, true_positive_rate, label='ROC_Curve')\n",
        "plt.show()"
      ],
      "execution_count": 64,
      "outputs": [
        {
          "output_type": "display_data",
          "data": {
            "image/png": "[encoded data removed]",
            "text/plain": [
              "<Figure size 432x288 with 1 Axes>"
            ]
          },
          "metadata": {
            "tags": []
          }
        }
      ]
    }
  ]
}